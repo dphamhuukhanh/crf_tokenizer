{
 "cells": [
  {
   "cell_type": "code",
   "execution_count": 1,
   "metadata": {},
   "outputs": [],
   "source": [
    "import pickle \n",
    "\n",
    "with open(\"D:\\PythonProject\\CRF_tokenize\\src\\crf_model.pkl\", 'rb') as file:\n",
    "    crf_model = pickle.load(file)\n"
   ]
  },
  {
   "cell_type": "code",
   "execution_count": null,
   "metadata": {},
   "outputs": [],
   "source": [
    "# check in dictionary\n",
    "def check_dict(word, dict):\n",
    "    for w in dict:\n",
    "        if w == word:\n",
    "            return 1\n",
    "    return 0\n",
    "\n",
    "\n",
    "def word2features(sent, i):\n",
    "    word = sent[i][0]\n",
    "    \n",
    "    features = {\n",
    "        'bias': 1.0,\n",
    "        'word.lower()': word.lower(),\n",
    "        'word[-3:]': word[-3:],\n",
    "        'word[-2:]': word[-2:],\n",
    "        'word.isupper()': word.isupper(),\n",
    "        'word.istitle()': word.istitle(),\n",
    "        'word.isdigit()': word.isdigit(),\n",
    "    }\n",
    "    if i > 1:\n",
    "        word1 = sent[i-1][0]\n",
    "        features.update({\n",
    "            '-1:word.lower()': word1.lower(),\n",
    "            '-1:word.istitle()': word1.istitle(),\n",
    "            '-1:word.isupper()': word1.isupper(),\n",
    "            '-1:word.check_dict()': check_dict(\" \".join([word1, word]), dict),\n",
    "            '-2:word.lower()': sent[i-2][0].lower(),\n",
    "            '-2:word.istitle()': sent[i-2][0].istitle(),\n",
    "            '-2:word.isupper()': sent[i-2][0].isupper(),\n",
    "\n",
    "        })\n",
    "    else:\n",
    "        features['BOS'] = True\n",
    "\n",
    "    if i < len(sent)-2:\n",
    "        word1 = sent[i+1][0]\n",
    "        features.update({\n",
    "            '+1:word.lower()': word1.lower(),\n",
    "            '+1:word.istitle()': word1.istitle(),\n",
    "            '+1:word.isupper()': word1.isupper(),\n",
    "            '+1:word.check_dict()': check_dict(\" \".join([word, word1]), dict),\n",
    "            '+2:word.lower()': sent[i+2][0].lower(),\n",
    "            '+2:word.istitle()': sent[i+2][0].istitle(),\n",
    "            '+2:word.isupper()': sent[i+2][0].isupper(),\n",
    "        })\n",
    "    else:\n",
    "        features['EOS'] = True\n",
    "\n",
    "    if i>1 and i < (len(sent)-2):\n",
    "        word_prev = sent[i-1][0]\n",
    "        word_next = sent[i+1][0]\n",
    "        features.update({\n",
    "            'combined_word.check_dict()': check_dict(\" \".join([word_prev, word, word_next]), dict),\n",
    "        })\n",
    "\n",
    "    return features\n",
    "\n",
    "\n",
    "def sent2features(sent):\n",
    "    return [word2features(sent, i) for i in range(len(sent))]\n",
    "\n",
    "def sent2labels(sent):\n",
    "    return [label for token, label in sent]"
   ]
  },
  {
   "cell_type": "code",
   "execution_count": null,
   "metadata": {},
   "outputs": [],
   "source": [
    "crf_model.predict()"
   ]
  }
 ],
 "metadata": {
  "interpreter": {
   "hash": "d5afa8a9d6dc426d781654d90509d27b41bfca0b5905dda7dc4338c472ee20c1"
  },
  "kernelspec": {
   "display_name": "Python 3.8.3 ('venv': venv)",
   "language": "python",
   "name": "python3"
  },
  "language_info": {
   "codemirror_mode": {
    "name": "ipython",
    "version": 3
   },
   "file_extension": ".py",
   "mimetype": "text/x-python",
   "name": "python",
   "nbconvert_exporter": "python",
   "pygments_lexer": "ipython3",
   "version": "3.8.3"
  },
  "orig_nbformat": 4
 },
 "nbformat": 4,
 "nbformat_minor": 2
}
