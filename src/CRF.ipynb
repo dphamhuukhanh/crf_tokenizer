{
 "cells": [
  {
   "cell_type": "code",
   "execution_count": null,
   "metadata": {},
   "outputs": [],
   "source": [
    "from sklearn_crfsuite import CRF\n",
    "import re\n",
    "from sklearn.model_selection import train_test_split\n",
    "from sklearn.metrics._classification import classification_report\n",
    "from sklearn.naive_bayes import MultinomialNB\n",
    "import sklearn_crfsuite\n",
    "from sklearn_crfsuite import scorers\n",
    "from sklearn_crfsuite import metrics\n",
    "import pickle\n",
    "from CRF_tokenizer import sent2features, sent2labels, CRF_tokenizer"
   ]
  },
  {
   "cell_type": "code",
   "execution_count": null,
   "metadata": {},
   "outputs": [],
   "source": [
    "sentenceNtag = []"
   ]
  },
  {
   "cell_type": "code",
   "execution_count": null,
   "metadata": {},
   "outputs": [],
   "source": [
    "with open(\"../IOB_data/train1.txt\", encoding='utf8') as file:\n",
    "    for line in file:\n",
    "        cnt = 0\n",
    "        word_buff = \"\"\n",
    "        tag_buff = \"\"\n",
    "        \n",
    "        while line[cnt].isspace() != True:\n",
    "            word_buff += line[cnt]\n",
    "            cnt += 1\n",
    "        \n",
    "        cnt = len(line) - 2 \n",
    "        while line[cnt].isspace() != True: \n",
    "            tag_buff += line[cnt]\n",
    "            cnt -= 1\n",
    "        tag_buff = tag_buff[::-1]\n",
    "        \n",
    "        sentenceNtag.append((word_buff, tag_buff))\n"
   ]
  },
  {
   "cell_type": "code",
   "execution_count": null,
   "metadata": {},
   "outputs": [],
   "source": [
    "sentences = []\n",
    "\n",
    "temp = []\n",
    "for i in range(len(sentenceNtag)):\n",
    "    if sentenceNtag[i][0] != '.':\n",
    "        temp.append(sentenceNtag[i])\n",
    "    else:\n",
    "        sentences.append(temp)\n",
    "        temp = []"
   ]
  },
  {
   "cell_type": "code",
   "execution_count": null,
   "metadata": {},
   "outputs": [],
   "source": [
    "print(len(sentences))"
   ]
  },
  {
   "cell_type": "code",
   "execution_count": null,
   "metadata": {},
   "outputs": [],
   "source": [
    "%%time\n",
    "X_train = [sent2features(s) for s in sentences]\n",
    "y_train = [sent2labels(s) for s in sentences]\n",
    "\n",
    "X_train, X_test, y_train, y_test = train_test_split(X_train, y_train, test_size=0.2, random_state=None)\n"
   ]
  },
  {
   "cell_type": "code",
   "execution_count": null,
   "metadata": {},
   "outputs": [],
   "source": [
    "crf_model = CRF_tokenizer()\n",
    "crf_model.load('..\\src\\crf_model.pkl')"
   ]
  },
  {
   "cell_type": "code",
   "execution_count": null,
   "metadata": {},
   "outputs": [],
   "source": [
    "text = input()\n",
    "crf_model.predict_new(text)"
   ]
  }
 ],
 "metadata": {
  "interpreter": {
   "hash": "0f2ce2d3c1741b694246a6e44d632af8dbd43e1684f20325d41ce25aa5a30a46"
  },
  "kernelspec": {
   "display_name": "Python 3.8.3 ('venv': venv)",
   "language": "python",
   "name": "python3"
  },
  "language_info": {
   "codemirror_mode": {
    "name": "ipython",
    "version": 3
   },
   "file_extension": ".py",
   "mimetype": "text/x-python",
   "name": "python",
   "nbconvert_exporter": "python",
   "pygments_lexer": "ipython3",
   "version": "3.8.3"
  },
  "orig_nbformat": 4
 },
 "nbformat": 4,
 "nbformat_minor": 2
}
